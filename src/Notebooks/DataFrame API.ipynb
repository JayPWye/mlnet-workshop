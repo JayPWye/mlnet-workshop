{
 "cells": [
  {
   "cell_type": "code",
   "execution_count": 1,
   "metadata": {},
   "outputs": [
    {
     "data": {
      "text/plain": [
       "Installed package Microsoft.Data.Analysis version 0.4.0"
      ]
     },
     "metadata": {},
     "output_type": "display_data"
    }
   ],
   "source": [
    "#r \"nuget:Microsoft.Data.Analysis\""
   ]
  },
  {
   "cell_type": "code",
   "execution_count": 2,
   "metadata": {},
   "outputs": [],
   "source": [
    "using Microsoft.Data.Analysis;"
   ]
  },
  {
   "cell_type": "code",
   "execution_count": 3,
   "metadata": {},
   "outputs": [],
   "source": [
    "using Microsoft.AspNetCore.Html;\n",
    "Formatter<DataFrame>.Register((df, writer) =>\n",
    "{\n",
    "    var headers = new List<IHtmlContent>();\n",
    "    headers.Add(th(i(\"index\")));\n",
    "    headers.AddRange(df.Columns.Select(c => (IHtmlContent) th(c.Name)));\n",
    "    var rows = new List<List<IHtmlContent>>();\n",
    "    var take = 10;\n",
    "    for (var i = 0; i < Math.Min(take, df.Rows.Count); i++)\n",
    "    {\n",
    "        var cells = new List<IHtmlContent>();\n",
    "        cells.Add(td(i));\n",
    "        foreach (var obj in df.Rows[i])\n",
    "        {\n",
    "            cells.Add(td(obj));\n",
    "        }\n",
    "        rows.Add(cells);\n",
    "    }\n",
    "\n",
    "    var t = table(\n",
    "        thead(\n",
    "            headers),\n",
    "        tbody(\n",
    "            rows.Select(\n",
    "                r => tr(r))));\n",
    "\n",
    "    writer.Write(t);\n",
    "}, \"text/html\");"
   ]
  },
  {
   "cell_type": "code",
   "execution_count": 9,
   "metadata": {},
   "outputs": [
    {
     "data": {
      "text/html": [
       "<table><thead><th><i>index</i></th><th>Price</th><th>Year</th><th>Mileage</th><th>City</th><th>State</th><th>Vin</th><th>Make</th><th>Model</th></thead><tbody><tr><td>0</td><td>8995</td><td>2014</td><td>35725</td><td>El Paso</td><td> TX</td><td>19VDE2E53EE000083</td><td>Acura</td><td>ILX6-Speed</td></tr><tr><td>1</td><td>10888</td><td>2013</td><td>19606</td><td>Long Island City</td><td> NY</td><td>19VDE1F52DE012636</td><td>Acura</td><td>ILX5-Speed</td></tr><tr><td>2</td><td>8995</td><td>2013</td><td>48851</td><td>El Paso</td><td> TX</td><td>19VDE2E52DE000025</td><td>Acura</td><td>ILX6-Speed</td></tr><tr><td>3</td><td>10999</td><td>2014</td><td>39922</td><td>Windsor</td><td> CO</td><td>19VDE1F71EE003817</td><td>Acura</td><td>ILX5-Speed</td></tr><tr><td>4</td><td>14799</td><td>2016</td><td>22142</td><td>Lindon</td><td> UT</td><td>19UDE2F32GA001284</td><td>Acura</td><td>ILXAutomatic</td></tr><tr><td>5</td><td>7989</td><td>2012</td><td>105246</td><td>Miami</td><td> FL</td><td>JH4CU2F83CC019895</td><td>Acura</td><td>TSXAutomatic</td></tr><tr><td>6</td><td>14490</td><td>2014</td><td>34032</td><td>Greatneck</td><td> NY</td><td>JH4CU2F84EC002686</td><td>Acura</td><td>TSXSpecial</td></tr><tr><td>7</td><td>13995</td><td>2013</td><td>32384</td><td>West Jordan</td><td> UT</td><td>JH4CU2F64DC006203</td><td>Acura</td><td>TSX5-Speed</td></tr><tr><td>8</td><td>10495</td><td>2013</td><td>57596</td><td>Waterbury</td><td> CT</td><td>19VDE2E50DE000234</td><td>Acura</td><td>ILX6-Speed</td></tr><tr><td>9</td><td>9995</td><td>2013</td><td>63887</td><td>El Paso</td><td> TX</td><td>19VDE1F50DE010450</td><td>Acura</td><td>ILX5-Speed</td></tr></tbody></table>"
      ]
     },
     "execution_count": 9,
     "metadata": {},
     "output_type": "execute_result"
    }
   ],
   "source": [
    "var data = DataFrame.LoadCsv(\"../../data/true_car_listings.csv\", separator: ',');\n",
    "\n",
    "data"
   ]
  },
  {
   "cell_type": "code",
   "execution_count": null,
   "metadata": {},
   "outputs": [],
   "source": []
  }
 ],
 "metadata": {
  "kernelspec": {
   "display_name": ".NET (C#)",
   "language": "C#",
   "name": ".net-csharp"
  },
  "language_info": {
   "file_extension": ".cs",
   "mimetype": "text/x-csharp",
   "name": "C#",
   "pygments_lexer": "csharp",
   "version": "8.0"
  }
 },
 "nbformat": 4,
 "nbformat_minor": 2
}
